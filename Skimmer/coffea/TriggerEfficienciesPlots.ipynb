{
 "cells": [
  {
   "cell_type": "code",
   "execution_count": 5,
   "metadata": {},
   "outputs": [],
   "source": [
    "import argparse\n",
    "import os\n",
    "import sys\n",
    "\n",
    "import uproot\n",
    "from coffea import hist\n",
    "from coffea.util import load"
   ]
  },
  {
   "cell_type": "code",
   "execution_count": 21,
   "metadata": {},
   "outputs": [
    {
     "name": "stdout",
     "output_type": "stream",
     "text": [
      "SingleMuon2017C_njetsBasic_pt\n",
      "SingleMuon2017C_basetrigger_pt\n",
      "SingleMuon2017C_triggerAK8PFJet140_pt\n",
      "SingleMuon2017C_triggerAK8PFJet200_pt\n",
      "SingleMuon2017C_triggerAK8PFJet260_pt\n",
      "SingleMuon2017C_triggerAK8PFJet320_pt\n",
      "SingleMuon2017C_triggerAK8PFJet400_pt\n",
      "SingleMuon2017C_triggerAK8PFJet450_pt\n",
      "SingleMuon2017C_triggerAK8PFJet500_pt\n",
      "SingleMuon2017B_njetsBasic_pt\n",
      "SingleMuon2017B_basetrigger_pt\n",
      "SingleMuon2017B_triggerAK8PFJet140_pt\n",
      "SingleMuon2017B_triggerAK8PFJet200_pt\n",
      "SingleMuon2017B_triggerAK8PFJet260_pt\n",
      "SingleMuon2017B_triggerAK8PFJet320_pt\n",
      "SingleMuon2017B_triggerAK8PFJet400_pt\n",
      "SingleMuon2017B_triggerAK8PFJet450_pt\n",
      "SingleMuon2017B_triggerAK8PFJet500_pt\n"
     ]
    }
   ],
   "source": [
    "result = load('hists_None_trigger_sample_test2.coffea')\n",
    "outputfile = uproot.recreate(\"output.root\")\n",
    "\n",
    "listHistos = []\n",
    "for i in result['jets'].values():\n",
    "    listHistos.append(i)\n",
    "    print(i[0]+'_'+i[1]+'_pt')\n",
    "    outputfile[i[0]+'_'+i[1]+'_pt'] = hist.export1d(result['jets'].integrate('dataset', i[0]).integrate('selection',i[1]).sum('eta', 'mass'))\n",
    "    outputfile[i[0]+'_'+i[1]+'_mass'] = hist.export1d(result['jets'].integrate('dataset', i[0]).integrate('selection',i[1]).sum('eta', 'pt'))\n",
    "    outputfile[i[0]+'_'+i[1]+'_eta'] = hist.export1d(result['jets'].integrate('dataset', i[0]).integrate('selection',i[1]).sum('mass', 'pt'))\n",
    "    \n",
    "outputfile.close()"
   ]
  },
  {
   "cell_type": "code",
   "execution_count": 22,
   "metadata": {},
   "outputs": [
    {
     "name": "stdout",
     "output_type": "stream",
     "text": [
      "{'SingleMuon2017C_njetsBasic_pt': <ROOT.TH1D object (\"SingleMuon2017C_njetsBasic_pt\") at 0x557809c48db0>, 'SingleMuon2017C_njetsBasic_mass': <ROOT.TH1D object (\"SingleMuon2017C_njetsBasic_mass\") at 0x557805807670>, 'SingleMuon2017C_njetsBasic_eta': <ROOT.TH1D object (\"SingleMuon2017C_njetsBasic_eta\") at 0x5578056cf280>, 'SingleMuon2017C_basetrigger_pt': <ROOT.TH1D object (\"SingleMuon2017C_basetrigger_pt\") at 0x5578056bf3d0>, 'SingleMuon2017C_basetrigger_mass': <ROOT.TH1D object (\"SingleMuon2017C_basetrigger_mass\") at 0x5578056b9c70>, 'SingleMuon2017C_basetrigger_eta': <ROOT.TH1D object (\"SingleMuon2017C_basetrigger_eta\") at 0x5578056a71a0>, 'SingleMuon2017C_triggerAK8PFJet140_pt': <ROOT.TH1D object (\"SingleMuon2017C_triggerAK8PFJet140_pt\") at 0x557805694810>, 'SingleMuon2017C_triggerAK8PFJet140_mass': <ROOT.TH1D object (\"SingleMuon2017C_triggerAK8PFJet140_mass\") at 0x557809f43230>, 'SingleMuon2017C_triggerAK8PFJet140_eta': <ROOT.TH1D object (\"SingleMuon2017C_triggerAK8PFJet140_eta\") at 0x557809f2a980>, 'SingleMuon2017C_triggerAK8PFJet200_pt': <ROOT.TH1D object (\"SingleMuon2017C_triggerAK8PFJet200_pt\") at 0x557809dd04d0>, 'SingleMuon2017C_triggerAK8PFJet200_mass': <ROOT.TH1D object (\"SingleMuon2017C_triggerAK8PFJet200_mass\") at 0x557809dd0930>, 'SingleMuon2017C_triggerAK8PFJet200_eta': <ROOT.TH1D object (\"SingleMuon2017C_triggerAK8PFJet200_eta\") at 0x557809dcad80>, 'SingleMuon2017C_triggerAK8PFJet260_pt': <ROOT.TH1D object (\"SingleMuon2017C_triggerAK8PFJet260_pt\") at 0x557809f75620>, 'SingleMuon2017C_triggerAK8PFJet260_mass': <ROOT.TH1D object (\"SingleMuon2017C_triggerAK8PFJet260_mass\") at 0x557809f298b0>, 'SingleMuon2017C_triggerAK8PFJet260_eta': <ROOT.TH1D object (\"SingleMuon2017C_triggerAK8PFJet260_eta\") at 0x557809db41b0>, 'SingleMuon2017C_triggerAK8PFJet320_pt': <ROOT.TH1D object (\"SingleMuon2017C_triggerAK8PFJet320_pt\") at 0x557809c619b0>, 'SingleMuon2017C_triggerAK8PFJet320_mass': <ROOT.TH1D object (\"SingleMuon2017C_triggerAK8PFJet320_mass\") at 0x557809c61090>, 'SingleMuon2017C_triggerAK8PFJet320_eta': <ROOT.TH1D object (\"SingleMuon2017C_triggerAK8PFJet320_eta\") at 0x557809c61550>, 'SingleMuon2017C_triggerAK8PFJet400_pt': <ROOT.TH1D object (\"SingleMuon2017C_triggerAK8PFJet400_pt\") at 0x557809e18f20>, 'SingleMuon2017C_triggerAK8PFJet400_mass': <ROOT.TH1D object (\"SingleMuon2017C_triggerAK8PFJet400_mass\") at 0x557809e18600>, 'SingleMuon2017C_triggerAK8PFJet400_eta': <ROOT.TH1D object (\"SingleMuon2017C_triggerAK8PFJet400_eta\") at 0x557809f28b60>, 'SingleMuon2017C_triggerAK8PFJet450_pt': <ROOT.TH1D object (\"SingleMuon2017C_triggerAK8PFJet450_pt\") at 0x557809e1fe20>, 'SingleMuon2017C_triggerAK8PFJet450_mass': <ROOT.TH1D object (\"SingleMuon2017C_triggerAK8PFJet450_mass\") at 0x557809dec880>, 'SingleMuon2017C_triggerAK8PFJet450_eta': <ROOT.TH1D object (\"SingleMuon2017C_triggerAK8PFJet450_eta\") at 0x557809e1f500>, 'SingleMuon2017C_triggerAK8PFJet500_pt': <ROOT.TH1D object (\"SingleMuon2017C_triggerAK8PFJet500_pt\") at 0x557809dfd0c0>, 'SingleMuon2017C_triggerAK8PFJet500_mass': <ROOT.TH1D object (\"SingleMuon2017C_triggerAK8PFJet500_mass\") at 0x557809e20980>, 'SingleMuon2017C_triggerAK8PFJet500_eta': <ROOT.TH1D object (\"SingleMuon2017C_triggerAK8PFJet500_eta\") at 0x557809e20d70>, 'SingleMuon2017B_njetsBasic_pt': <ROOT.TH1D object (\"SingleMuon2017B_njetsBasic_pt\") at 0x557809f75040>, 'SingleMuon2017B_njetsBasic_mass': <ROOT.TH1D object (\"SingleMuon2017B_njetsBasic_mass\") at 0x557809e84810>, 'SingleMuon2017B_njetsBasic_eta': <ROOT.TH1D object (\"SingleMuon2017B_njetsBasic_eta\") at 0x557809e84ee0>, 'SingleMuon2017B_basetrigger_pt': <ROOT.TH1D object (\"SingleMuon2017B_basetrigger_pt\") at 0x557809f74730>, 'SingleMuon2017B_basetrigger_mass': <ROOT.TH1D object (\"SingleMuon2017B_basetrigger_mass\") at 0x557809e0db10>, 'SingleMuon2017B_basetrigger_eta': <ROOT.TH1D object (\"SingleMuon2017B_basetrigger_eta\") at 0x557809e11750>, 'SingleMuon2017B_triggerAK8PFJet140_pt': <ROOT.TH1D object (\"SingleMuon2017B_triggerAK8PFJet140_pt\") at 0x557809e0ebe0>, 'SingleMuon2017B_triggerAK8PFJet140_mass': <ROOT.TH1D object (\"SingleMuon2017B_triggerAK8PFJet140_mass\") at 0x557809e0e2c0>, 'SingleMuon2017B_triggerAK8PFJet140_eta': <ROOT.TH1D object (\"SingleMuon2017B_triggerAK8PFJet140_eta\") at 0x557809e88ee0>, 'SingleMuon2017B_triggerAK8PFJet200_pt': <ROOT.TH1D object (\"SingleMuon2017B_triggerAK8PFJet200_pt\") at 0x557809e0f960>, 'SingleMuon2017B_triggerAK8PFJet200_mass': <ROOT.TH1D object (\"SingleMuon2017B_triggerAK8PFJet200_mass\") at 0x557809e105b0>, 'SingleMuon2017B_triggerAK8PFJet200_eta': <ROOT.TH1D object (\"SingleMuon2017B_triggerAK8PFJet200_eta\") at 0x557809e0f040>, 'SingleMuon2017B_triggerAK8PFJet260_pt': <ROOT.TH1D object (\"SingleMuon2017B_triggerAK8PFJet260_pt\") at 0x557809e81d90>, 'SingleMuon2017B_triggerAK8PFJet260_mass': <ROOT.TH1D object (\"SingleMuon2017B_triggerAK8PFJet260_mass\") at 0x557809e829a0>, 'SingleMuon2017B_triggerAK8PFJet260_eta': <ROOT.TH1D object (\"SingleMuon2017B_triggerAK8PFJet260_eta\") at 0x557809e81470>, 'SingleMuon2017B_triggerAK8PFJet320_pt': <ROOT.TH1D object (\"SingleMuon2017B_triggerAK8PFJet320_pt\") at 0x557809c85a80>, 'SingleMuon2017B_triggerAK8PFJet320_mass': <ROOT.TH1D object (\"SingleMuon2017B_triggerAK8PFJet320_mass\") at 0x557809ea65b0>, 'SingleMuon2017B_triggerAK8PFJet320_eta': <ROOT.TH1D object (\"SingleMuon2017B_triggerAK8PFJet320_eta\") at 0x557809e835f0>, 'SingleMuon2017B_triggerAK8PFJet400_pt': <ROOT.TH1D object (\"SingleMuon2017B_triggerAK8PFJet400_pt\") at 0x557809c82870>, 'SingleMuon2017B_triggerAK8PFJet400_mass': <ROOT.TH1D object (\"SingleMuon2017B_triggerAK8PFJet400_mass\") at 0x557809c831f0>, 'SingleMuon2017B_triggerAK8PFJet400_eta': <ROOT.TH1D object (\"SingleMuon2017B_triggerAK8PFJet400_eta\") at 0x557809c81f50>, 'SingleMuon2017B_triggerAK8PFJet450_pt': <ROOT.TH1D object (\"SingleMuon2017B_triggerAK8PFJet450_pt\") at 0x557809e577a0>, 'SingleMuon2017B_triggerAK8PFJet450_mass': <ROOT.TH1D object (\"SingleMuon2017B_triggerAK8PFJet450_mass\") at 0x557809c83dd0>, 'SingleMuon2017B_triggerAK8PFJet450_eta': <ROOT.TH1D object (\"SingleMuon2017B_triggerAK8PFJet450_eta\") at 0x557809e56e80>, 'SingleMuon2017B_triggerAK8PFJet500_pt': <ROOT.TH1D object (\"SingleMuon2017B_triggerAK8PFJet500_pt\") at 0x557809e53ce0>, 'SingleMuon2017B_triggerAK8PFJet500_mass': <ROOT.TH1D object (\"SingleMuon2017B_triggerAK8PFJet500_mass\") at 0x557809c84840>, 'SingleMuon2017B_triggerAK8PFJet500_eta': <ROOT.TH1D object (\"SingleMuon2017B_triggerAK8PFJet500_eta\") at 0x557809c84230>}\n"
     ]
    }
   ],
   "source": [
    "#### Translate to root\n",
    "import ROOT\n",
    "%jsroot\n",
    "\n",
    "canvas = {} ### needed to plot several histos in a loop\n",
    "histDict = {}\n",
    "\n",
    "inFile = ROOT.TFile('output.root')\n",
    "\n",
    "for q in listHistos:\n",
    "    for k in ['pt','mass','eta']:\n",
    "        histDict[ q[0]+'_'+q[1]+'_'+k ] = inFile.Get(q[0]+'_'+q[1]+'_'+k)\n",
    "\n",
    "print(histDict)\n"
   ]
  },
  {
   "cell_type": "code",
   "execution_count": 29,
   "metadata": {},
   "outputs": [
    {
     "name": "stderr",
     "output_type": "stream",
     "text": [
      "Warning in <TCanvas::Constructor>: Deleting canvas with same name: triggerAK8PFJet500\n"
     ]
    },
    {
     "data": {
      "text/html": [
       "\n",
       "<div id=\"root_plot_5\"\n",
       "     style=\"width: 696px; height: 472px\">\n",
       "</div>\n",
       "\n",
       "<script>\n",
       " requirejs.config({\n",
       "     paths: {\n",
       "       'JSRootCore' : 'https://root.cern.ch/js/notebook//scripts/JSRootCore',\n",
       "     }\n",
       "   });\n",
       " require(['JSRootCore'],\n",
       "     function(Core) {\n",
       "       var obj = Core.JSONR_unref({\"_typename\":\"TCanvas\",\"fUniqueID\":0,\"fBits\":53673992,\"fLineColor\":1,\"fLineStyle\":1,\"fLineWidth\":1,\"fFillColor\":0,\"fFillStyle\":1001,\"fLeftMargin\":0.1,\"fRightMargin\":0.1,\"fBottomMargin\":0.1,\"fTopMargin\":0.1,\"fXfile\":2,\"fYfile\":2,\"fAfile\":1,\"fXstat\":0.99,\"fYstat\":0.99,\"fAstat\":2,\"fFrameFillColor\":0,\"fFrameLineColor\":1,\"fFrameFillStyle\":1001,\"fFrameLineStyle\":1,\"fFrameLineWidth\":1,\"fFrameBorderSize\":1,\"fFrameBorderMode\":0,\"fX1\":-8.94069725632107e-6,\"fY1\":-0.115684911203616,\"fX2\":1200.0000089407,\"fY2\":1.04116413187897,\"fXtoAbsPixelk\":5.51856043313947e-5,\"fXtoPixelk\":5.51856043313947e-5,\"fXtoPixel\":0.579999991357326,\"fYtoAbsPixelk\":424.800047186661,\"fYtoPixelk\":424.800047186661,\"fYtoPixel\":-408.004832456179,\"fUtoAbsPixelk\":5e-5,\"fUtoPixelk\":5e-5,\"fUtoPixel\":696,\"fVtoAbsPixelk\":472.00005,\"fVtoPixelk\":472,\"fVtoPixel\":-472,\"fAbsPixeltoXk\":-8.94069725632107e-6,\"fPixeltoXk\":-8.94069725632107e-6,\"fPixeltoX\":1.72413795672614,\"fAbsPixeltoYk\":1.04116413187897,\"fPixeltoYk\":-0.115684911203616,\"fPixeltoY\":-0.0024509513624631,\"fXlowNDC\":0,\"fYlowNDC\":0,\"fXUpNDC\":0,\"fYUpNDC\":0,\"fWNDC\":1,\"fHNDC\":1,\"fAbsXlowNDC\":0,\"fAbsYlowNDC\":0,\"fAbsWNDC\":1,\"fAbsHNDC\":1,\"fUxmin\":120,\"fUymin\":0,\"fUxmax\":1080,\"fUymax\":0.92547922067535,\"fTheta\":30,\"fPhi\":30,\"fAspectRatio\":0,\"fNumber\":0,\"fTickx\":0,\"fTicky\":0,\"fLogx\":0,\"fLogy\":0,\"fLogz\":0,\"fPadPaint\":0,\"fCrosshair\":0,\"fCrosshairPos\":0,\"fBorderSize\":2,\"fBorderMode\":0,\"fModified\":false,\"fGridx\":false,\"fGridy\":false,\"fAbsCoord\":false,\"fEditable\":true,\"fFixedAspectRatio\":false,\"fPrimitives\":{\"_typename\":\"TList\",\"name\":\"TList\",\"arr\":[{\"_typename\":\"TFrame\",\"fUniqueID\":0,\"fBits\":50331656,\"fLineColor\":1,\"fLineStyle\":1,\"fLineWidth\":1,\"fFillColor\":0,\"fFillStyle\":1001,\"fX1\":120,\"fY1\":0,\"fX2\":1080,\"fY2\":0.92547922067535,\"fBorderSize\":1,\"fBorderMode\":0},{\"_typename\":\"TEfficiency\",\"fUniqueID\":0,\"fBits\":50331656,\"fName\":\"SingleMuon2017B_basetrigger_pt_clone\",\"fTitle\":\"\",\"fLineColor\":1,\"fLineStyle\":1,\"fLineWidth\":1,\"fFillColor\":19,\"fFillStyle\":1001,\"fMarkerColor\":1,\"fMarkerStyle\":1,\"fMarkerSize\":1,\"fBeta_alpha\":1,\"fBeta_beta\":1,\"fBeta_bin_params\":[],\"fConfLevel\":0.682689492137,\"fFunctions\":{\"_typename\":\"TList\",\"name\":\"TList\",\"arr\":[],\"opt\":[]},\"fPassedHistogram\":{\"_typename\":\"TH1D\",\"fUniqueID\":0,\"fBits\":50331656,\"fName\":\"SingleMuon2017B_basetrigger_pt_clone_passed\",\"fTitle\":\"entries\",\"fLineColor\":602,\"fLineStyle\":1,\"fLineWidth\":1,\"fFillColor\":0,\"fFillStyle\":1001,\"fMarkerColor\":1,\"fMarkerStyle\":1,\"fMarkerSize\":1,\"fNcells\":102,\"fXaxis\":{\"_typename\":\"TAxis\",\"fUniqueID\":0,\"fBits\":50331648,\"fName\":\"pt\",\"fTitle\":\"Leading jet $p^{T}$ [GeV]\",\"fNdivisions\":510,\"fAxisColor\":1,\"fLabelColor\":1,\"fLabelFont\":42,\"fLabelOffset\":0.005,\"fLabelSize\":0.035,\"fTickLength\":0.03,\"fTitleOffset\":1,\"fTitleSize\":0.035,\"fTitleColor\":1,\"fTitleFont\":42,\"fNbins\":100,\"fXmin\":0,\"fXmax\":1000,\"fXbins\":[],\"fFirst\":0,\"fLast\":0,\"fBits2\":0,\"fTimeDisplay\":false,\"fTimeFormat\":\"\",\"fLabels\":null,\"fModLabs\":null},\"fYaxis\":{\"_typename\":\"TAxis\",\"fUniqueID\":0,\"fBits\":50331648,\"fName\":\"yaxis\",\"fTitle\":\"\",\"fNdivisions\":510,\"fAxisColor\":1,\"fLabelColor\":1,\"fLabelFont\":42,\"fLabelOffset\":0.005,\"fLabelSize\":0.035,\"fTickLength\":0.03,\"fTitleOffset\":0,\"fTitleSize\":0.035,\"fTitleColor\":1,\"fTitleFont\":42,\"fNbins\":1,\"fXmin\":0,\"fXmax\":1,\"fXbins\":[],\"fFirst\":0,\"fLast\":0,\"fBits2\":0,\"fTimeDisplay\":false,\"fTimeFormat\":\"\",\"fLabels\":null,\"fModLabs\":null},\"fZaxis\":{\"_typename\":\"TAxis\",\"fUniqueID\":0,\"fBits\":50331648,\"fName\":\"zaxis\",\"fTitle\":\"\",\"fNdivisions\":510,\"fAxisColor\":1,\"fLabelColor\":1,\"fLabelFont\":42,\"fLabelOffset\":0.005,\"fLabelSize\":0.035,\"fTickLength\":0.03,\"fTitleOffset\":1,\"fTitleSize\":0.035,\"fTitleColor\":1,\"fTitleFont\":42,\"fNbins\":1,\"fXmin\":0,\"fXmax\":1,\"fXbins\":[],\"fFirst\":0,\"fLast\":0,\"fBits2\":0,\"fTimeDisplay\":false,\"fTimeFormat\":\"\",\"fLabels\":null,\"fModLabs\":null},\"fBarOffset\":0,\"fBarWidth\":1000,\"fEntries\":8,\"fTsumw\":8,\"fTsumw2\":8,\"fTsumwx\":3590,\"fTsumwx2\":2248800,\"fMaximum\":-1111,\"fMinimum\":-1111,\"fNormFactor\":0,\"fContour\":[],\"fSumw2\":[0,0,0,0,0,0,0,0,0,0,0,0,0,0,0,0,0,0,0,0,0,0,0,2,0,0,0,0,2,0,1,0,0,0,0,0,0,0,0,0,0,0,0,0,0,1,0,0,0,0,0,0,0,0,0,0,0,0,0,0,0,0,0,0,0,0,0,0,0,0,0,0,0,0,0,0,0,0,0,0,0,0,0,0,0,0,0,0,0,0,0,0,0,2,0,0,0,0,0,0,0,0],\"fOption\":\"\",\"fFunctions\":{\"_typename\":\"TList\",\"name\":\"TList\",\"arr\":[],\"opt\":[]},\"fBufferSize\":0,\"fBuffer\":[],\"fBinStatErrOpt\":0,\"fStatOverflows\":2,\"fArray\":[0,0,0,0,0,0,0,0,0,0,0,0,0,0,0,0,0,0,0,0,0,0,0,2,0,0,0,0,2,0,1,0,0,0,0,0,0,0,0,0,0,0,0,0,0,1,0,0,0,0,0,0,0,0,0,0,0,0,0,0,0,0,0,0,0,0,0,0,0,0,0,0,0,0,0,0,0,0,0,0,0,0,0,0,0,0,0,0,0,0,0,0,0,2,0,0,0,0,0,0,0,0]},\"fStatisticOption\":0,\"fTotalHistogram\":{\"_typename\":\"TH1D\",\"fUniqueID\":0,\"fBits\":50331656,\"fName\":\"SingleMuon2017B_basetrigger_pt_clone_total\",\"fTitle\":\"entries\",\"fLineColor\":602,\"fLineStyle\":1,\"fLineWidth\":1,\"fFillColor\":0,\"fFillStyle\":1001,\"fMarkerColor\":1,\"fMarkerStyle\":1,\"fMarkerSize\":1,\"fNcells\":102,\"fXaxis\":{\"_typename\":\"TAxis\",\"fUniqueID\":0,\"fBits\":50331648,\"fName\":\"pt\",\"fTitle\":\"Leading jet $p^{T}$ [GeV]\",\"fNdivisions\":510,\"fAxisColor\":1,\"fLabelColor\":1,\"fLabelFont\":42,\"fLabelOffset\":0.005,\"fLabelSize\":0.035,\"fTickLength\":0.03,\"fTitleOffset\":1,\"fTitleSize\":0.035,\"fTitleColor\":1,\"fTitleFont\":42,\"fNbins\":100,\"fXmin\":0,\"fXmax\":1000,\"fXbins\":[],\"fFirst\":0,\"fLast\":0,\"fBits2\":0,\"fTimeDisplay\":false,\"fTimeFormat\":\"\",\"fLabels\":null,\"fModLabs\":null},\"fYaxis\":{\"_typename\":\"TAxis\",\"fUniqueID\":0,\"fBits\":50331648,\"fName\":\"yaxis\",\"fTitle\":\"\",\"fNdivisions\":510,\"fAxisColor\":1,\"fLabelColor\":1,\"fLabelFont\":42,\"fLabelOffset\":0.005,\"fLabelSize\":0.035,\"fTickLength\":0.03,\"fTitleOffset\":0,\"fTitleSize\":0.035,\"fTitleColor\":1,\"fTitleFont\":42,\"fNbins\":1,\"fXmin\":0,\"fXmax\":1,\"fXbins\":[],\"fFirst\":0,\"fLast\":0,\"fBits2\":0,\"fTimeDisplay\":false,\"fTimeFormat\":\"\",\"fLabels\":null,\"fModLabs\":null},\"fZaxis\":{\"_typename\":\"TAxis\",\"fUniqueID\":0,\"fBits\":50331648,\"fName\":\"zaxis\",\"fTitle\":\"\",\"fNdivisions\":510,\"fAxisColor\":1,\"fLabelColor\":1,\"fLabelFont\":42,\"fLabelOffset\":0.005,\"fLabelSize\":0.035,\"fTickLength\":0.03,\"fTitleOffset\":1,\"fTitleSize\":0.035,\"fTitleColor\":1,\"fTitleFont\":42,\"fNbins\":1,\"fXmin\":0,\"fXmax\":1,\"fXbins\":[],\"fFirst\":0,\"fLast\":0,\"fBits2\":0,\"fTimeDisplay\":false,\"fTimeFormat\":\"\",\"fLabels\":null,\"fModLabs\":null},\"fBarOffset\":0,\"fBarWidth\":1000,\"fEntries\":10768,\"fTsumw\":10768,\"fTsumw2\":10768,\"fTsumwx\":3118740,\"fTsumwx2\":1001109200,\"fMaximum\":-1111,\"fMinimum\":-1111,\"fNormFactor\":0,\"fContour\":[],\"fSumw2\":[0,0,0,0,0,0,0,0,0,0,0,0,0,0,0,0,0,0,0,0,0,934,1062,1001,918,815,701,611,577,477,394,314,299,279,289,196,218,151,166,114,124,110,99,84,71,66,66,56,47,41,52,32,26,46,29,25,16,29,22,4,22,12,9,10,17,12,11,13,7,5,13,3,7,6,4,4,2,4,4,2,4,2,4,2,1,0,3,3,4,2,1,0,3,4,2,0,2,0,0,1,2,8],\"fOption\":\"\",\"fFunctions\":{\"_typename\":\"TList\",\"name\":\"TList\",\"arr\":[],\"opt\":[]},\"fBufferSize\":0,\"fBuffer\":[],\"fBinStatErrOpt\":0,\"fStatOverflows\":2,\"fArray\":[0,0,0,0,0,0,0,0,0,0,0,0,0,0,0,0,0,0,0,0,0,934,1062,1001,918,815,701,611,577,477,394,314,299,279,289,196,218,151,166,114,124,110,99,84,71,66,66,56,47,41,52,32,26,46,29,25,16,29,22,4,22,12,9,10,17,12,11,13,7,5,13,3,7,6,4,4,2,4,4,2,4,2,4,2,1,0,3,3,4,2,1,0,3,4,2,0,2,0,0,1,2,8]},\"fWeight\":1}],\"opt\":[\"\",\"ap\"]},\"fExecs\":null,\"fName\":\"triggerAK8PFJet500\",\"fTitle\":\"triggerAK8PFJet500\",\"fNumPaletteColor\":0,\"fNextPaletteColor\":0,\"fDISPLAY\":\"$DISPLAY\",\"fDoubleBuffer\":0,\"fRetained\":true,\"fXsizeUser\":0,\"fYsizeUser\":0,\"fXsizeReal\":20,\"fYsizeReal\":14.28571,\"fWindowTopX\":0,\"fWindowTopY\":0,\"fWindowWidth\":0,\"fWindowHeight\":0,\"fCw\":696,\"fCh\":472,\"fCatt\":{\"_typename\":\"TAttCanvas\",\"fXBetween\":2,\"fYBetween\":2,\"fTitleFromTop\":1.2,\"fXdate\":0.2,\"fYdate\":0.3,\"fAdate\":1},\"kMoveOpaque\":true,\"kResizeOpaque\":true,\"fHighLightColor\":2,\"fBatch\":true,\"kShowEventStatus\":false,\"kAutoExec\":true,\"kMenuBar\":true});\n",
       "       Core.draw(\"root_plot_5\", obj, \"\");\n",
       "     }\n",
       " );\n",
       "</script>\n"
      ],
      "text/plain": [
       "<IPython.core.display.HTML object>"
      ]
     },
     "metadata": {},
     "output_type": "display_data"
    }
   ],
   "source": [
    "tLabel = 'triggerAK8PFJet500'\n",
    "\n",
    "denominator = histDict['SingleMuon2017B_basetrigger_pt'].Clone()\n",
    "numerator = histDict['SingleMuon2017B_triggerAK8PFJet140_pt'].Clone()\n",
    "\n",
    "test = ROOT.TEfficiency( numerator, denominator )\n",
    "\n",
    "canvas[tLabel] = ROOT.TCanvas( tLabel, tLabel, 700, 500)\n",
    "# denominator.Draw('histe')\n",
    "# numerator.Draw('histe same')\n",
    "test.Draw()\n",
    "canvas[tLabel].Draw()\n"
   ]
  },
  {
   "cell_type": "code",
   "execution_count": 42,
   "metadata": {},
   "outputs": [],
   "source": [
    "import matplotlib.pyplot as plt\n",
    "\n",
    "import mplhep as hep\n",
    "%matplotlib inline\n",
    "# plt.style.use(hep.style.ROOT)\n",
    "#hep.set_style(\"CMS\")"
   ]
  },
  {
   "cell_type": "code",
   "execution_count": 17,
   "metadata": {
    "scrolled": false
   },
   "outputs": [
    {
     "name": "stdout",
     "output_type": "stream",
     "text": [
      "njetsBasic\n",
      "basetrigger\n",
      "triggerAK8PFJet140\n",
      "triggerAK8PFJet200\n",
      "triggerAK8PFJet260\n",
      "triggerAK8PFJet320\n",
      "triggerAK8PFJet400\n",
      "triggerAK8PFJet450\n",
      "triggerAK8PFJet500\n",
      "[<StringBin (SingleMuon2017B) instance at 0x7f69b2905080>, <StringBin (SingleMuon2017C) instance at 0x7f69b29055c0>]\n"
     ]
    },
    {
     "data": {
      "image/png": "[encoded data removed]",
      "text/plain": [
       "<Figure size 432x288 with 1 Axes>"
      ]
     },
     "metadata": {
      "needs_background": "light"
     },
     "output_type": "display_data"
    }
   ],
   "source": [
    "hep.cms.label(data=True,year='2017')\n",
    "tmpHist = result['jets'].integrate('dataset', ['SingleMuon2017C']).sum('eta','mass').rebin(\"pt\", hist.Bin(\"newpt\", \"Leading jet pt [GeV]\", 45, 100, 1000))\n",
    "a = hist.plot1d(tmpHist)\n",
    "for i in tmpHist.values(): print(i[0])\n",
    "print(result['jets'].identifiers('dataset'))\n",
    "#a.set_ylim(0,10)\n",
    "# a.set_xlim(100,800)\n"
   ]
  },
  {
   "cell_type": "code",
   "execution_count": 37,
   "metadata": {},
   "outputs": [
    {
     "data": {
      "image/png": "[encoded data removed]",
      "text/plain": [
       "<Figure size 432x288 with 1 Axes>"
      ]
     },
     "metadata": {
      "needs_background": "light"
     },
     "output_type": "display_data"
    }
   ],
   "source": [
    "tmpHist = result['cutflow'].integrate('dataset')\n",
    "a = hist.plot1d(tmpHist)"
   ]
  },
  {
   "cell_type": "code",
   "execution_count": 8,
   "metadata": {},
   "outputs": [
    {
     "name": "stderr",
     "output_type": "stream",
     "text": [
      "/home/algomez/miniconda2/envs/my_root_env/lib/python3.7/site-packages/coffea/hist/hist_tools.py:348: RuntimeWarning: Not all requested indices present in <Cat (name=selection) instance at 0x7fc6b1cdb6a0>\n",
      "  warnings.warn(\"Not all requested indices present in %r\" % self, RuntimeWarning)\n"
     ]
    },
    {
     "ename": "KeyError",
     "evalue": "()",
     "output_type": "error",
     "traceback": [
      "\u001b[0;31m---------------------------------------------------------------------------\u001b[0m",
      "\u001b[0;31mKeyError\u001b[0m                                  Traceback (most recent call last)",
      "\u001b[0;32m<ipython-input-8-7ba4983a268e>\u001b[0m in \u001b[0;36m<module>\u001b[0;34m\u001b[0m\n\u001b[1;32m      6\u001b[0m     \u001b[0mnum\u001b[0m\u001b[0;34m=\u001b[0m\u001b[0mnumerator\u001b[0m\u001b[0;34m,\u001b[0m\u001b[0;34m\u001b[0m\u001b[0;34m\u001b[0m\u001b[0m\n\u001b[1;32m      7\u001b[0m     \u001b[0mdenom\u001b[0m\u001b[0;34m=\u001b[0m\u001b[0mdenominator\u001b[0m\u001b[0;34m,\u001b[0m\u001b[0;34m\u001b[0m\u001b[0;34m\u001b[0m\u001b[0m\n\u001b[0;32m----> 8\u001b[0;31m     \u001b[0merror_opts\u001b[0m\u001b[0;34m=\u001b[0m\u001b[0;34m{\u001b[0m\u001b[0;34m'color'\u001b[0m\u001b[0;34m:\u001b[0m \u001b[0;34m'k'\u001b[0m\u001b[0;34m,\u001b[0m \u001b[0;34m'marker'\u001b[0m\u001b[0;34m:\u001b[0m \u001b[0;34m'.'\u001b[0m\u001b[0;34m}\u001b[0m\u001b[0;34m,\u001b[0m\u001b[0;34m\u001b[0m\u001b[0;34m\u001b[0m\u001b[0m\n\u001b[0m\u001b[1;32m      9\u001b[0m \u001b[0;31m#     unc='num'\u001b[0m\u001b[0;34m\u001b[0m\u001b[0;34m\u001b[0m\u001b[0;34m\u001b[0m\u001b[0m\n\u001b[1;32m     10\u001b[0m )\n",
      "\u001b[0;32m~/miniconda2/envs/my_root_env/lib/python3.7/site-packages/coffea/hist/plot.py\u001b[0m in \u001b[0;36mplotratio\u001b[0;34m(num, denom, ax, clear, overflow, error_opts, denom_fill_opts, guide_opts, unc, label)\u001b[0m\n\u001b[1;32m    352\u001b[0m         \u001b[0mcenters\u001b[0m \u001b[0;34m=\u001b[0m \u001b[0maxis\u001b[0m\u001b[0;34m.\u001b[0m\u001b[0mcenters\u001b[0m\u001b[0;34m(\u001b[0m\u001b[0moverflow\u001b[0m\u001b[0;34m=\u001b[0m\u001b[0moverflow\u001b[0m\u001b[0;34m)\u001b[0m\u001b[0;34m\u001b[0m\u001b[0;34m\u001b[0m\u001b[0m\n\u001b[1;32m    353\u001b[0m \u001b[0;34m\u001b[0m\u001b[0m\n\u001b[0;32m--> 354\u001b[0;31m         \u001b[0msumw_num\u001b[0m\u001b[0;34m,\u001b[0m \u001b[0msumw2_num\u001b[0m \u001b[0;34m=\u001b[0m \u001b[0mnum\u001b[0m\u001b[0;34m.\u001b[0m\u001b[0mvalues\u001b[0m\u001b[0;34m(\u001b[0m\u001b[0msumw2\u001b[0m\u001b[0;34m=\u001b[0m\u001b[0;32mTrue\u001b[0m\u001b[0;34m,\u001b[0m \u001b[0moverflow\u001b[0m\u001b[0;34m=\u001b[0m\u001b[0moverflow\u001b[0m\u001b[0;34m)\u001b[0m\u001b[0;34m[\u001b[0m\u001b[0;34m(\u001b[0m\u001b[0;34m)\u001b[0m\u001b[0;34m]\u001b[0m\u001b[0;34m\u001b[0m\u001b[0;34m\u001b[0m\u001b[0m\n\u001b[0m\u001b[1;32m    355\u001b[0m         \u001b[0msumw_denom\u001b[0m\u001b[0;34m,\u001b[0m \u001b[0msumw2_denom\u001b[0m \u001b[0;34m=\u001b[0m \u001b[0mdenom\u001b[0m\u001b[0;34m.\u001b[0m\u001b[0mvalues\u001b[0m\u001b[0;34m(\u001b[0m\u001b[0msumw2\u001b[0m\u001b[0;34m=\u001b[0m\u001b[0;32mTrue\u001b[0m\u001b[0;34m,\u001b[0m \u001b[0moverflow\u001b[0m\u001b[0;34m=\u001b[0m\u001b[0moverflow\u001b[0m\u001b[0;34m)\u001b[0m\u001b[0;34m[\u001b[0m\u001b[0;34m(\u001b[0m\u001b[0;34m)\u001b[0m\u001b[0;34m]\u001b[0m\u001b[0;34m\u001b[0m\u001b[0;34m\u001b[0m\u001b[0m\n\u001b[1;32m    356\u001b[0m \u001b[0;34m\u001b[0m\u001b[0m\n",
      "\u001b[0;31mKeyError\u001b[0m: ()"
     ]
    },
    {
     "data": {
      "image/png": "[encoded data removed]",
      "text/plain": [
       "<Figure size 432x288 with 1 Axes>"
      ]
     },
     "metadata": {
      "needs_background": "light"
     },
     "output_type": "display_data"
    }
   ],
   "source": [
    "newBin = hist.Bin(\"newpt\", \"Leading jet pt [GeV]\", 20, 100, 900)\n",
    "denominator = result['jets'].integrate('dataset').integrate('selection', ['basetrigger']).sum('eta','mass').rebin('pt', newBin)\n",
    "numerator = result['jets'].integrate('dataset').integrate('selection', ['triggerAK8PFJet450']).sum('eta','mass').rebin('pt', newBin)\n",
    "\n",
    "ax = hist.plotratio(\n",
    "    num=numerator,\n",
    "    denom=denominator,\n",
    "    error_opts={'color': 'k', 'marker': '.'},\n",
    "#     unc='num'\n",
    ")\n",
    "ax.set_ylim(-0.1,1.1)\n",
    "# ax.set_xlim(100,1000)"
   ]
  },
  {
   "cell_type": "code",
   "execution_count": null,
   "metadata": {},
   "outputs": [],
   "source": []
  },
  {
   "cell_type": "code",
   "execution_count": null,
   "metadata": {},
   "outputs": [],
   "source": [
    "hep.cms.label(data=True,year='2017')\n",
    "\n",
    "a = hist.plot1d(result['cutflow'] ) #, overlay='dataset')"
   ]
  },
  {
   "cell_type": "code",
   "execution_count": null,
   "metadata": {},
   "outputs": [],
   "source": []
  },
  {
   "cell_type": "code",
   "execution_count": null,
   "metadata": {},
   "outputs": [],
   "source": []
  },
  {
   "cell_type": "code",
   "execution_count": null,
   "metadata": {},
   "outputs": [],
   "source": []
  },
  {
   "cell_type": "code",
   "execution_count": null,
   "metadata": {},
   "outputs": [],
   "source": []
  }
 ],
 "metadata": {
  "kernelspec": {
   "display_name": "Python 3",
   "language": "python",
   "name": "python3"
  },
  "language_info": {
   "codemirror_mode": {
    "name": "ipython",
    "version": 3
   },
   "file_extension": ".py",
   "mimetype": "text/x-python",
   "name": "python",
   "nbconvert_exporter": "python",
   "pygments_lexer": "ipython3",
   "version": "3.7.3"
  },
  "sparkconnect": {
   "bundled_options": [],
   "list_of_options": []
  }
 },
 "nbformat": 4,
 "nbformat_minor": 4
}
